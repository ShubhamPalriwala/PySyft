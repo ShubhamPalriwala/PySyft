{
 "cells": [
  {
   "cell_type": "markdown",
   "id": "ad87e089",
   "metadata": {
    "tags": []
   },
   "source": [
    "<h2><center>Welcome to HAgrid Quickstart</center></h2>\n",
    "<p><center>Let's quickly understand the steps that we are going to perform now:</center></p>\n",
    "\n",
    "<img src=\"./img/header.png\" style=\"width: 100%; \" />\n",
    "\n",
    "### 1.  Deploying a Domain Server:\n",
    "    We will deploy a domain server. It will allow the Data Owner to manage the data and control the privacy guarantees of the subjects under study. It will also manage the remote study of the data by a Data Scientist. It also acts as a gatekeeper for the Data Scientist's access to the data to compute and experiment with the results\n",
    "    \n",
    "### 2. Uploading Private Dataset:\n",
    "    We now upload our private data as Data Owners to our domain server for data scientists to remotely perform Data Science on.\n",
    "\n",
    "### 3. Joining a Network:\n",
    "    We now join a network for easy administration of legal ? technical details of our project. It provides services to a group of Data Owners and Data Scientists, such as dataset search and bulk project approval (legal / technical) to participate in a project. It also acts as a bridge between it's members (Domains) and their subscribers (Data Scientists) and can provide access to a collection of domains at once.\n",
    "  \n",
    "### 4. Creating a User Account for a Data Scientist\n",
    "    We now finally create an account for our data scientist, whose credentials can now be shared to them so that they can perform computations or answer a specific question using one or more data owners' datasets without copying the private data.\n",
    "\n",
    "### 5. Login as the Data Scientist\n",
    "    We now login as the user created in the previous step to strt performing Remote Data Science,\n",
    "### 6. Perform Remote Data Science\n",
    "    We now finally perform remote data science without copying the data."
   ]
  },
  {
   "cell_type": "markdown",
   "id": "7eeec7b3-b633-484d-85b9-02fcebaaeebf",
   "metadata": {},
   "source": [
    "Now, before everything, let's make sure we have the correct version of Syft with us.\n",
    "Run the below cell:"
   ]
  },
  {
   "cell_type": "code",
   "execution_count": null,
   "id": "415edc38-02e1-433b-b53d-3abb637648ea",
   "metadata": {},
   "outputs": [],
   "source": [
    "! pip show syft\n",
    "! echo \"\\n✅ Step Complete\\n\""
   ]
  },
  {
   "cell_type": "markdown",
   "id": "6c226eee-9f99-4cff-be06-82b43d42359f",
   "metadata": {},
   "source": [
    "To verify that you have Syft setup, see if you can see the \"Version\" tag above, if it's as per the version you expected or >=0.7, you should be good to go!"
   ]
  },
  {
   "cell_type": "markdown",
   "id": "7473a05a-1f77-4d95-af61-d2a7ade854d9",
   "metadata": {},
   "source": [
    "### Time to deploy a Domain Server"
   ]
  },
  {
   "cell_type": "markdown",
   "id": "4bca9e4e-6ff8-4363-8398-cca2632f81c9",
   "metadata": {},
   "source": [
    "<img src=\"./img/deploy_domain.jpg\" style=\"width: 100%; margin:0;\" />"
   ]
  },
  {
   "cell_type": "markdown",
   "id": "86f9493f-c9f4-42af-b668-81a103d3682a",
   "metadata": {},
   "source": [
    "Edit the DOMAIN_NAME with your own favorite name and run the cell below:"
   ]
  },
  {
   "cell_type": "code",
   "execution_count": null,
   "id": "5439bb8f-049d-4365-b8f6-9b80d2f585f9",
   "metadata": {},
   "outputs": [],
   "source": [
    "DOMAIN_NAME = \"My Institution Name\"\n",
    "! hagrid launch {DOMAIN_NAME} to docker:80 --tag=latest --tail=false"
   ]
  },
  {
   "cell_type": "markdown",
   "id": "1e0d8656-fddd-40d3-9acc-d486c666f253",
   "metadata": {},
   "source": [
    "Voila, hope did not run into any errors. Let's confirm that by running the cell below:"
   ]
  },
  {
   "cell_type": "code",
   "execution_count": null,
   "id": "244fe9cf-74af-426e-a9a4-ee52c1c162c1",
   "metadata": {},
   "outputs": [],
   "source": [
    "! hagrid check --wait --silent\n",
    "\n",
    "! echo \"\\n✅ Step Complete\\n\""
   ]
  },
  {
   "cell_type": "markdown",
   "id": "fdb20277-c04e-4075-be0a-4a09a67f743e",
   "metadata": {},
   "source": [
    "Now it's time to upload private dataset to our domain"
   ]
  },
  {
   "cell_type": "markdown",
   "id": "369ecfc3-cc2e-4867-8546-30aa80af4020",
   "metadata": {},
   "source": [
    "<img src=\"./img/data.jpg\" style=\"width: 100%; margin:0;\" />"
   ]
  },
  {
   "cell_type": "markdown",
   "id": "19cab88d-1b5d-4420-9b4e-a7b57dbf4b1c",
   "metadata": {},
   "source": [
    "We now import Syft and a helper utils.py"
   ]
  },
  {
   "cell_type": "code",
   "execution_count": null,
   "id": "bf42192b-76eb-41b9-a7a7-56b64ae8c5f3",
   "metadata": {},
   "outputs": [],
   "source": [
    "import syft as sy\n",
    "from utils import *\n",
    "! echo \"\\n✅ Syft is imported\\n\""
   ]
  },
  {
   "cell_type": "markdown",
   "id": "93772e29-134d-4d6e-827d-1972e77ccd3e",
   "metadata": {},
   "source": [
    "We now login to the domain we created in the previous step with default credentials"
   ]
  },
  {
   "cell_type": "code",
   "execution_count": null,
   "id": "c2481584-e2c2-4267-a22c-8b6a8d5ea408",
   "metadata": {},
   "outputs": [],
   "source": [
    "domain_client = sy.login(\n",
    "    url=auto_detect_domain_host_ip(),\n",
    "    email=\"info@openmined.org\",\n",
    "    password=\"changethis\"\n",
    ")\n",
    "! echo \"\\n✅ Logged in into the domain\\n\"\n"
   ]
  },
  {
   "cell_type": "markdown",
   "id": "3f1bdb10-7ebc-4c7e-88e0-5e1849a64e8f",
   "metadata": {},
   "source": [
    "We now fetch the dataset we want to upload to the Domain server for our Data Scientists"
   ]
  },
  {
   "cell_type": "code",
   "execution_count": null,
   "id": "ccce7f2c-c294-4bd2-9833-254975190b53",
   "metadata": {},
   "outputs": [],
   "source": [
    "# edit MY_DATASET_URL then run this cell\n",
    "\n",
    "MY_DATASET_URL = \"\"\n",
    "\n",
    "dataset = download_dataset(MY_DATASET_URL)\n",
    "# see footnotes for information about the dataset"
   ]
  },
  {
   "cell_type": "markdown",
   "id": "37d8ca58-9539-4210-9b39-b6972a23537a",
   "metadata": {},
   "source": [
    "We look at the first 5 entries to confirm our dataset has been fetched correctly"
   ]
  },
  {
   "cell_type": "code",
   "execution_count": null,
   "id": "8f75e676-30dd-46a0-b924-a31cbad4a4d8",
   "metadata": {},
   "outputs": [],
   "source": [
    "dataset.head()"
   ]
  },
  {
   "cell_type": "markdown",
   "id": "bc43e8c6-8bb0-4f2c-8786-7b6b35de834d",
   "metadata": {},
   "source": [
    "Now we do the pre-processing of our input dataset"
   ]
  },
  {
   "cell_type": "code",
   "execution_count": null,
   "id": "7b4e2673-9bcc-48c6-abaa-ca8dff5e4046",
   "metadata": {},
   "outputs": [],
   "source": [
    "# run this cell\n",
    "train, val, test = split_and_preprocess_dataset(data=dataset)"
   ]
  },
  {
   "cell_type": "markdown",
   "id": "be7aef6f-e1b3-47a1-b328-53798043efb5",
   "metadata": {},
   "source": [
    "We now annotate the train data for Automatic Differential Privacy"
   ]
  },
  {
   "cell_type": "code",
   "execution_count": null,
   "id": "efd2412f-2df5-406e-986b-bacdfe9d531e",
   "metadata": {},
   "outputs": [],
   "source": [
    "# run this cell\n",
    "data_subjects = DataSubjectList.from_series(train[\"patient_ids\"])\n",
    "train_image_data = sy.Tensor(train[\"images\"]).annotated_with_dp_metadata(\n",
    "    min_val=0, max_val=255, data_subjects=data_subjects\n",
    ")\n",
    "train_label_data = sy.Tensor(train[\"labels\"]).annotated_with_dp_metadata(\n",
    "    min_val=0, max_val=1, data_subjects=data_subjects\n",
    ")"
   ]
  },
  {
   "cell_type": "markdown",
   "id": "aa9e832f-ccb0-4ee6-a623-bf7a7097ae02",
   "metadata": {},
   "source": [
    "We now annotate the val data for Automatic Differential Privacy"
   ]
  },
  {
   "cell_type": "code",
   "execution_count": null,
   "id": "e1077270-0002-4151-a73a-ff6d5433f251",
   "metadata": {},
   "outputs": [],
   "source": [
    "data_subjects = DataSubjectList.from_series(val[\"patient_ids\"])\n",
    "val_image_data = sy.Tensor(val[\"images\"]).annotated_with_dp_metadata(\n",
    "    min_val=0, max_val=255, data_subjects=data_subjects\n",
    ")\n",
    "val_label_data = sy.Tensor(val[\"labels\"]).annotated_with_dp_metadata(\n",
    "    min_val=0, max_val=1, data_subjects=data_subjects\n",
    ")"
   ]
  },
  {
   "cell_type": "markdown",
   "id": "ce8e626e-c70c-4978-b3f7-3992e1b41c0b",
   "metadata": {},
   "source": [
    "We now annotate the test data for Automatic Differential Privacy"
   ]
  },
  {
   "cell_type": "code",
   "execution_count": null,
   "id": "ac824d90-2cdd-44fe-bf19-317f01b7a1c8",
   "metadata": {},
   "outputs": [],
   "source": [
    "data_subjects = DataSubjectList.from_series(test[\"patient_ids\"])\n",
    "test_image_data = sy.Tensor(test[\"images\"]).annotated_with_dp_metadata(\n",
    "    min_val=0, max_val=255, data_subjects=data_subjects\n",
    ")\n",
    "test_label_data = sy.Tensor(test[\"labels\"]).annotated_with_dp_metadata(\n",
    "    min_val=0, max_val=1, data_subjects=data_subjects\n",
    ")"
   ]
  },
  {
   "cell_type": "markdown",
   "id": "ea33d7fc-9914-4140-9ab8-7e9a4fb70eda",
   "metadata": {},
   "source": [
    "Now that our dataset is ready, we upload it to our domain server"
   ]
  },
  {
   "cell_type": "code",
   "execution_count": null,
   "id": "a50f9452-8284-4934-a50a-8b33b34966a4",
   "metadata": {},
   "outputs": [],
   "source": [
    "# run this cell\n",
    "domain_client.load_dataset(\n",
    "    name=\"BreastCancerDataset\",\n",
    "    assets={\n",
    "        \"train_images\": train_image_data,\n",
    "        \"train_labels\": train_label_data,\n",
    "        \"val_images\": val_image_data,\n",
    "        \"val_labels\": val_label_data,\n",
    "        \"test_images\": test_image_data,\n",
    "        \"test_labels\": test_label_data,\n",
    "    },\n",
    "    description=\"Invasive Ductal Carcinoma (IDC) is the most common subtype of all breast cancers. \\\n",
    "    The modified dataset consisted of 162 whole mount slide images of Breast Cancer (BCa) specimens scanned at 40x. \\\n",
    "    Patches of size 50 x 50 were extracted from the original image. The labels 0 is non-IDC and 1 is IDC.\"\n",
    ")"
   ]
  },
  {
   "cell_type": "markdown",
   "id": "8e6cd91e-f433-4faf-8947-7c20657ac272",
   "metadata": {},
   "source": [
    "We check the dataset on the doamin to confirm that it got uploaded"
   ]
  },
  {
   "cell_type": "code",
   "execution_count": null,
   "id": "bb2aea76-d2dd-47c4-b4b8-c80d24704e2b",
   "metadata": {},
   "outputs": [],
   "source": [
    "# run this cell\n",
    "domain_client.datasets"
   ]
  },
  {
   "cell_type": "markdown",
   "id": "da592051-b298-4b11-859b-a71f536cbedf",
   "metadata": {},
   "source": [
    "<img src=\"./img/network.jpg\" style=\"width: 100%; margin:0;\" />"
   ]
  },
  {
   "cell_type": "markdown",
   "id": "2ff1fe26-1227-45ab-a8cd-a20911f179c7",
   "metadata": {},
   "source": [
    "Browse the available networks"
   ]
  },
  {
   "cell_type": "code",
   "execution_count": null,
   "id": "a6cc874c-e9ea-48d9-8dc0-c5602e37b1f4",
   "metadata": {},
   "outputs": [],
   "source": [
    "sy.networks"
   ]
  },
  {
   "cell_type": "markdown",
   "id": "fdfc34fb-403b-4663-9b09-79f0516a58b5",
   "metadata": {},
   "source": [
    "Join a network by name"
   ]
  },
  {
   "cell_type": "code",
   "execution_count": null,
   "id": "b5b45fc6-62e7-4284-a676-60984b5f98e2",
   "metadata": {},
   "outputs": [],
   "source": [
    "# run this cell\n",
    "NETWORK_NAME = \"\"\n",
    "network_client = sy.networks[NETWORK_NAME]\n",
    "domain_client.apply_to_network(network_client)"
   ]
  },
  {
   "cell_type": "markdown",
   "id": "2be5eb02-5852-4700-aee0-bd773e14a89e",
   "metadata": {},
   "source": [
    "List the domains"
   ]
  },
  {
   "cell_type": "code",
   "execution_count": null,
   "id": "aee0e815-c7f2-410a-a5b4-30327af875e2",
   "metadata": {},
   "outputs": [],
   "source": [
    "# run this cell\n",
    "network_client.domains"
   ]
  },
  {
   "cell_type": "markdown",
   "id": "2cb51b17-9298-4054-9174-71fcf0d12c84",
   "metadata": {},
   "source": [
    "<img src=\"./img/user_account.jpg\" style=\"width: 100%; margin:0;\" />"
   ]
  },
  {
   "cell_type": "markdown",
   "id": "1a41fb29-3ae5-44f0-b5b9-b567a8d51416",
   "metadata": {},
   "source": [
    "Create a User"
   ]
  },
  {
   "cell_type": "code",
   "execution_count": null,
   "id": "93160a6d-3332-4e68-a852-997c7f47248b",
   "metadata": {},
   "outputs": [],
   "source": [
    "# run this cell\n",
    "data_scientist_details = domain_client.create_user(\n",
    "    name=\"Sam Carter\",\n",
    "    email=\"sam@stargate.net\",\n",
    "    password=\"changethis\",\n",
    "    budget=9999\n",
    ")"
   ]
  },
  {
   "cell_type": "markdown",
   "id": "3a2cd785-a00c-4009-b3cc-dc2dcd09f953",
   "metadata": {},
   "source": [
    "Print out the Data Scientist details"
   ]
  },
  {
   "cell_type": "code",
   "execution_count": null,
   "id": "a6065d87-36c1-4301-8b8c-113b5acab0ad",
   "metadata": {},
   "outputs": [],
   "source": [
    "# run this cell then copy the output\n",
    "submit_credentials(data_scientist_details)\n",
    "print(\"Please give these details to the Data Scientist 👇🏽\")\n",
    "print(data_scientist_details)"
   ]
  },
  {
   "cell_type": "code",
   "execution_count": null,
   "id": "7cbaeca1-5637-40c0-8f4d-9dafe4823660",
   "metadata": {},
   "outputs": [],
   "source": []
  }
 ],
 "metadata": {
  "kernelspec": {
   "display_name": "Python 3 (ipykernel)",
   "language": "python",
   "name": "python3"
  },
  "language_info": {
   "codemirror_mode": {
    "name": "ipython",
    "version": 3
   },
   "file_extension": ".py",
   "mimetype": "text/x-python",
   "name": "python",
   "nbconvert_exporter": "python",
   "pygments_lexer": "ipython3",
   "version": "3.9.12"
  }
 },
 "nbformat": 4,
 "nbformat_minor": 5
}
